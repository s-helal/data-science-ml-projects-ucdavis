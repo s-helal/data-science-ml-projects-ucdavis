{
  "cells": [
    {
      "cell_type": "markdown",
      "source": [
        "# Data"
      ],
      "metadata": {
        "id": "RRKBVKgDdviu"
      }
    },
    {
      "cell_type": "markdown",
      "source": [
        "## *Loading*"
      ],
      "metadata": {
        "id": "0HHS3m-qdxWf"
      }
    },
    {
      "cell_type": "code",
      "execution_count": null,
      "metadata": {
        "id": "d3xuwCgnYBUs"
      },
      "outputs": [],
      "source": [
        "# Load the Drive helper and mount\n",
        "from google.colab import drive\n",
        "\n",
        "# This will prompt for authorization.\n",
        "drive.mount('/content/drive')"
      ]
    },
    {
      "cell_type": "code",
      "execution_count": null,
      "metadata": {
        "id": "XS7dz7ihaHOD"
      },
      "outputs": [],
      "source": [
        "!pip3 install --quiet \"tensorflow-text==2.8.*\""
      ]
    },
    {
      "cell_type": "code",
      "execution_count": null,
      "metadata": {
        "id": "m0aDFy99Ze_h"
      },
      "outputs": [],
      "source": [
        "import numpy as np\n",
        "import pandas as pd\n",
        "import matplotlib.pyplot as plt\n",
        "\n",
        "import tensorflow_hub as hub\n",
        "import tensorflow_text as text\n",
        "import tensorflow as tf\n",
        "\n",
        "from sklearn.model_selection import train_test_split\n",
        "from sklearn.metrics import precision_recall_curve, auc, confusion_matrix, ConfusionMatrixDisplay"
      ]
    },
    {
      "cell_type": "code",
      "execution_count": null,
      "metadata": {
        "id": "Geo41bpAZIGu"
      },
      "outputs": [],
      "source": [
        "data_dir = \"/content/drive/MyDrive/ECS 271 Project/\"\n",
        "data = pd.read_csv(data_dir + \"WELFake_Dataset.csv\")\n",
        "adv1 = pd.read_csv(data_dir + \"advDataRandom-2.csv\", encoding='latin-1')\n",
        "adv2 = pd.read_csv(data_dir + \"advDataKey.csv\", encoding='latin-1')\n",
        "adv3 = pd.read_csv(data_dir + \"advDataAppend.csv\", encoding='latin-1')"
      ]
    },
    {
      "cell_type": "markdown",
      "source": [
        "## *Preprocessing*"
      ],
      "metadata": {
        "id": "P9Sd4yuLdWEc"
      }
    },
    {
      "cell_type": "code",
      "execution_count": null,
      "metadata": {
        "id": "6eFg7HJofgGw"
      },
      "outputs": [],
      "source": [
        "# changing NaNs to empty strings\n",
        "data[data[\"title\"].isna()][\"title\"] = \"\"\n",
        "data[data[\"text\"].isna()][\"text\"] = \"\"\n",
        "\n",
        "adv1[adv1[\"title\"].isna()][\"title\"] = \"\"\n",
        "adv1[adv1[\"text\"].isna()][\"text\"] = \"\"\n",
        "\n",
        "adv2[adv2[\"title\"].isna()][\"title\"] = \"\"\n",
        "adv2[adv2[\"text\"].isna()][\"text\"] = \"\"\n",
        "\n",
        "adv3[adv3[\"title\"].isna()][\"title\"] = \"\"\n",
        "adv3[adv3[\"text\"].isna()][\"text\"] = \"\""
      ]
    },
    {
      "cell_type": "code",
      "execution_count": null,
      "metadata": {
        "id": "DNO4T1z4ZOp5"
      },
      "outputs": [],
      "source": [
        "# the default train-test split it 75-25\n",
        "del data[\"text\"]\n",
        "del adv1[\"text\"]\n",
        "del adv2[\"text\"]\n",
        "del adv3[\"text\"]\n",
        "\n",
        "train, test = train_test_split(data, random_state = 42) # split normal data 75/25\n",
        "advSample = adv1.sample(18033) # adversarial sample\n",
        "adv_train, test_Rand = train_test_split(advSample, random_state = 42) # split adv sample 75/25\n",
        "test_Key = adv2.sample(4508) # Key adv test sample\n",
        "test_Append = adv3.sample(4508) # Append adv test sample\n",
        "\n",
        "train = pd.concat([train, adv_train], ignore_index=True) # total training data\n",
        "test_Rand = pd.concat([test, test_Rand], ignore_index=True) # total testing Rand\n",
        "test_Key = pd.concat([test, test_Key], ignore_index=True) # total testing Key\n",
        "test_Append = pd.concat([test, test_Append], ignore_index=True) # total testing Append"
      ]
    },
    {
      "cell_type": "code",
      "execution_count": null,
      "metadata": {
        "id": "q8VPtLlkZuR2"
      },
      "outputs": [],
      "source": [
        "def get_dataset(data):\n",
        "  titles = np.array(data[\"title\"].astype(str))\n",
        "  # text = np.array(data[\"text\"].astype(str))\n",
        "  label = np.array(data[\"label\"]).astype('float32')\n",
        "  return titles, label"
      ]
    },
    {
      "cell_type": "code",
      "execution_count": null,
      "metadata": {
        "id": "mPXkKb1GrDRB",
        "colab": {
          "base_uri": "https://localhost:8080/"
        },
        "outputId": "d4240cea-b510-494f-e522-436c596eee20"
      },
      "outputs": [
        {
          "output_type": "stream",
          "name": "stdout",
          "text": [
            "data size 72134\n",
            "real 37106\n",
            "fake 35028\n",
            "train size 67624\n",
            "test size 18034\n"
          ]
        }
      ],
      "source": [
        "print('data size', len(data))\n",
        "print('real',sum(data['label'] == 1))\n",
        "print('fake',sum(data['label'] == 0))\n",
        "print('train size', len(train))\n",
        "print('test size', len(test))"
      ]
    },
    {
      "cell_type": "code",
      "execution_count": null,
      "metadata": {
        "id": "ZVISPqSMjRtN"
      },
      "outputs": [],
      "source": [
        "X_train, y_train = get_dataset(train)\n",
        "X_test, y_test = get_dataset(test)\n",
        "X_test_Rand, y_test_Rand = get_dataset(test_Rand)\n",
        "X_test_Key, y_test_Key = get_dataset(test_Key)\n",
        "X_test_Append, y_test_Append = get_dataset(test_Append)"
      ]
    },
    {
      "cell_type": "markdown",
      "source": [
        "# Model"
      ],
      "metadata": {
        "id": "YZvihe-4eOaa"
      }
    },
    {
      "cell_type": "markdown",
      "source": [
        "## *Definition*"
      ],
      "metadata": {
        "id": "Q8Esa28veSNp"
      }
    },
    {
      "cell_type": "code",
      "execution_count": null,
      "metadata": {
        "id": "6sLBiMFLfUah"
      },
      "outputs": [],
      "source": [
        "tfhub_preprocess = \"https://tfhub.dev/tensorflow/bert_en_uncased_preprocess/3\"\n",
        "tfhub_bert = \"https://tfhub.dev/tensorflow/small_bert/bert_en_uncased_L-4_H-512_A-8/1\""
      ]
    },
    {
      "cell_type": "code",
      "execution_count": null,
      "metadata": {
        "id": "VTma4mtYbDpV"
      },
      "outputs": [],
      "source": [
        "class BERTTextClassifier(tf.keras.Model):\n",
        "  def __init__(self):\n",
        "    super(BERTTextClassifier, self).__init__()\n",
        "    self.title_input = tf.keras.layers.InputLayer(dtype=tf.string)\n",
        "    self.preprocess = hub.KerasLayer(tfhub_preprocess, name=\"preprocess\")\n",
        "    self.bert_encoder = hub.KerasLayer(tfhub_bert, name=\"bert_encoder\")\n",
        "    self.dense_layer = tf.keras.layers.Dense(128, activation='relu')\n",
        "    self.classifier = tf.keras.layers.Dense(1, activation='sigmoid')\n",
        "\n",
        "  def call(self, inputs):\n",
        "    title, text = inputs\n",
        "    x = self.bert_encoder(self.preprocess(self.title_input(title)))['pooled_output']\n",
        "    x = self.dense_layer(x)\n",
        "    return self.classifier(x)"
      ]
    },
    {
      "cell_type": "code",
      "execution_count": null,
      "metadata": {
        "id": "1dbTNXG_bDmd"
      },
      "outputs": [],
      "source": [
        "def build_bert_classifier_model():\n",
        "    title_input = tf.keras.layers.Input(shape=(), dtype=tf.string, name=\"title_input\")\n",
        "    preprocess = hub.KerasLayer(tfhub_preprocess, name=\"preprocess\")\n",
        "    bert_encoder = hub.KerasLayer(tfhub_bert, name=\"bert_encoder\")\n",
        "    dense_layer = tf.keras.layers.Dense(128, activation='relu')\n",
        "    classifier = tf.keras.layers.Dense(1, activation='sigmoid')\n",
        "\n",
        "    x = bert_encoder(preprocess(title_input))['pooled_output']\n",
        "    x = dense_layer(x)\n",
        "    output = classifier(x)\n",
        "    return tf.keras.Model(title_input, output)"
      ]
    },
    {
      "cell_type": "markdown",
      "source": [
        "## *Training*"
      ],
      "metadata": {
        "id": "W_3Szq7JeXL0"
      }
    },
    {
      "cell_type": "code",
      "execution_count": null,
      "metadata": {
        "id": "8UHZ99S0d-5s"
      },
      "outputs": [],
      "source": [
        "model = build_bert_classifier_model()"
      ]
    },
    {
      "cell_type": "code",
      "execution_count": null,
      "metadata": {
        "id": "85ZrTiw_j9oy"
      },
      "outputs": [],
      "source": [
        "model.compile(\n",
        "    optimizer=tf.keras.optimizers.Adam(),\n",
        "    loss=tf.keras.losses.BinaryCrossentropy(),\n",
        "    metrics=[tf.keras.metrics.BinaryAccuracy()]\n",
        ")"
      ]
    },
    {
      "cell_type": "code",
      "execution_count": null,
      "metadata": {
        "id": "VnBAvjV3d-2W",
        "colab": {
          "base_uri": "https://localhost:8080/"
        },
        "outputId": "6212ae44-ff6b-47f9-ed90-ea3cd3a16b62"
      },
      "outputs": [
        {
          "output_type": "stream",
          "name": "stdout",
          "text": [
            "Epoch 1/10\n",
            "2114/2114 [==============================] - 225s 103ms/step - loss: 0.3350 - binary_accuracy: 0.8518\n",
            "Epoch 2/10\n",
            "2114/2114 [==============================] - 217s 103ms/step - loss: 0.2822 - binary_accuracy: 0.8770\n",
            "Epoch 3/10\n",
            "2114/2114 [==============================] - 217s 103ms/step - loss: 0.2637 - binary_accuracy: 0.8852\n",
            "Epoch 4/10\n",
            "2114/2114 [==============================] - 216s 102ms/step - loss: 0.2503 - binary_accuracy: 0.8931\n",
            "Epoch 5/10\n",
            "2114/2114 [==============================] - 220s 104ms/step - loss: 0.2404 - binary_accuracy: 0.8974\n",
            "Epoch 6/10\n",
            "2114/2114 [==============================] - 215s 102ms/step - loss: 0.2308 - binary_accuracy: 0.9018\n",
            "Epoch 7/10\n",
            "2114/2114 [==============================] - 216s 102ms/step - loss: 0.2235 - binary_accuracy: 0.9044\n",
            "Epoch 8/10\n",
            "2114/2114 [==============================] - 214s 101ms/step - loss: 0.2155 - binary_accuracy: 0.9088\n",
            "Epoch 9/10\n",
            "2114/2114 [==============================] - 214s 101ms/step - loss: 0.2089 - binary_accuracy: 0.9131\n",
            "Epoch 10/10\n",
            "2114/2114 [==============================] - 216s 102ms/step - loss: 0.2022 - binary_accuracy: 0.9155\n"
          ]
        }
      ],
      "source": [
        "history = model.fit(x=X_train, y=y_train, epochs=10)"
      ]
    },
    {
      "cell_type": "markdown",
      "source": [
        "## *Evaluating*"
      ],
      "metadata": {
        "id": "MLX4ADT2eehE"
      }
    },
    {
      "cell_type": "code",
      "execution_count": null,
      "metadata": {
        "id": "ZbBqTviHhwJo",
        "colab": {
          "base_uri": "https://localhost:8080/"
        },
        "outputId": "fec4430f-a3c0-4f0a-abeb-d0b5cfa2c011"
      },
      "outputs": [
        {
          "output_type": "stream",
          "name": "stdout",
          "text": [
            "705/705 [==============================] - 71s 100ms/step - loss: 0.2383 - binary_accuracy: 0.8993\n",
            "705/705 [==============================] - 72s 103ms/step - loss: 0.2806 - binary_accuracy: 0.8801\n",
            "705/705 [==============================] - 71s 101ms/step - loss: 0.2394 - binary_accuracy: 0.9008\n",
            "564/564 [==============================] - 61s 108ms/step - loss: 0.2225 - binary_accuracy: 0.9077\n"
          ]
        },
        {
          "output_type": "execute_result",
          "data": {
            "text/plain": [
              "[0.22254008054733276, 0.9077298641204834]"
            ]
          },
          "metadata": {},
          "execution_count": 28
        }
      ],
      "source": [
        "model.evaluate(x = X_test_Rand, y = y_test_Rand)\n",
        "model.evaluate(x = X_test_Key, y = y_test_Key)\n",
        "model.evaluate(x = X_test_Append, y = y_test_Append)\n",
        "model.evaluate(x = X_test, y = y_test)"
      ]
    },
    {
      "cell_type": "code",
      "source": [
        "## plot metrics over epochs\n",
        "from google.colab import files\n",
        "model_name = \"advDataRandom\"\n",
        "title = model_name + \" Accuracy\"\n",
        "save_file = title.replace(\" \", \"_\").lower() + \".png\"\n",
        "plt.plot(history.history['binary_accuracy'], label='Accuracy')\n",
        "plt.plot(history.history['loss'], label = 'Loss')\n",
        "plt.xlabel('Epoch')\n",
        "plt.ylabel('Metric')\n",
        "plt.legend(loc='lower right')\n",
        "plt.savefig(save_file)\n",
        "files.download(save_file)"
      ],
      "metadata": {
        "id": "LxVcPq3Ivxhy",
        "colab": {
          "base_uri": "https://localhost:8080/",
          "height": 279
        },
        "outputId": "6d23a3c5-28db-419c-d1b7-7328dad0cd41"
      },
      "execution_count": null,
      "outputs": [
        {
          "output_type": "display_data",
          "data": {
            "text/plain": [
              "<IPython.core.display.Javascript object>"
            ],
            "application/javascript": [
              "\n",
              "    async function download(id, filename, size) {\n",
              "      if (!google.colab.kernel.accessAllowed) {\n",
              "        return;\n",
              "      }\n",
              "      const div = document.createElement('div');\n",
              "      const label = document.createElement('label');\n",
              "      label.textContent = `Downloading \"${filename}\": `;\n",
              "      div.appendChild(label);\n",
              "      const progress = document.createElement('progress');\n",
              "      progress.max = size;\n",
              "      div.appendChild(progress);\n",
              "      document.body.appendChild(div);\n",
              "\n",
              "      const buffers = [];\n",
              "      let downloaded = 0;\n",
              "\n",
              "      const channel = await google.colab.kernel.comms.open(id);\n",
              "      // Send a message to notify the kernel that we're ready.\n",
              "      channel.send({})\n",
              "\n",
              "      for await (const message of channel.messages) {\n",
              "        // Send a message to notify the kernel that we're ready.\n",
              "        channel.send({})\n",
              "        if (message.buffers) {\n",
              "          for (const buffer of message.buffers) {\n",
              "            buffers.push(buffer);\n",
              "            downloaded += buffer.byteLength;\n",
              "            progress.value = downloaded;\n",
              "          }\n",
              "        }\n",
              "      }\n",
              "      const blob = new Blob(buffers, {type: 'application/binary'});\n",
              "      const a = document.createElement('a');\n",
              "      a.href = window.URL.createObjectURL(blob);\n",
              "      a.download = filename;\n",
              "      div.appendChild(a);\n",
              "      a.click();\n",
              "      div.remove();\n",
              "    }\n",
              "  "
            ]
          },
          "metadata": {}
        },
        {
          "output_type": "display_data",
          "data": {
            "text/plain": [
              "<IPython.core.display.Javascript object>"
            ],
            "application/javascript": [
              "download(\"download_e227f52f-0713-43c4-ae28-1a086eb5aea9\", \"advdatarandom_accuracy.png\", 10840)"
            ]
          },
          "metadata": {}
        },
        {
          "output_type": "display_data",
          "data": {
            "text/plain": [
              "<Figure size 432x288 with 1 Axes>"
            ],
            "image/png": "[encoded data removed]"
          },
          "metadata": {
            "needs_background": "light"
          }
        }
      ]
    },
    {
      "cell_type": "code",
      "source": [
        "history.history['loss']"
      ],
      "metadata": {
        "colab": {
          "base_uri": "https://localhost:8080/"
        },
        "id": "dpAIMT1ZizgO",
        "outputId": "44c06c87-a99d-442a-bf13-a27c9342bdfc"
      },
      "execution_count": null,
      "outputs": [
        {
          "output_type": "execute_result",
          "data": {
            "text/plain": [
              "[0.3350410759449005,\n",
              " 0.28219062089920044,\n",
              " 0.26372048258781433,\n",
              " 0.2502518594264984,\n",
              " 0.24043194949626923,\n",
              " 0.23082305490970612,\n",
              " 0.22354447841644287,\n",
              " 0.21554040908813477,\n",
              " 0.2088659554719925,\n",
              " 0.20224535465240479]"
            ]
          },
          "metadata": {},
          "execution_count": 44
        }
      ]
    },
    {
      "cell_type": "code",
      "source": [
        "history.history['binary_accuracy']"
      ],
      "metadata": {
        "colab": {
          "base_uri": "https://localhost:8080/"
        },
        "id": "fQBmu6pVj3nN",
        "outputId": "81651f7c-f042-41ab-a840-2a7d777b266b"
      },
      "execution_count": null,
      "outputs": [
        {
          "output_type": "execute_result",
          "data": {
            "text/plain": [
              "[0.8518425226211548,\n",
              " 0.8769963383674622,\n",
              " 0.8851886987686157,\n",
              " 0.8930853009223938,\n",
              " 0.8973885178565979,\n",
              " 0.901839554309845,\n",
              " 0.9043978452682495,\n",
              " 0.9088193774223328,\n",
              " 0.9130781888961792,\n",
              " 0.9154590368270874]"
            ]
          },
          "metadata": {},
          "execution_count": 45
        }
      ]
    },
    {
      "cell_type": "code",
      "source": [
        "from google.colab import files\n",
        "import matplotlib.pyplot as plt\n",
        "\n",
        "model_name = \"advDataRandom\"\n",
        "title = \"Model Training Accuracy\"\n",
        "save_file = title.replace(\" \", \"_\").lower() + \".png\"\n",
        "epoch_x = list(range(1,11))\n",
        "plt.title(title)\n",
        "plt.plot(epoch_x,base_accuracy, label = 'baseline')\n",
        "plt.plot(epoch_x, accuracy_rand, label = 'advDataRandom')\n",
        "plt.plot(epoch_x, accuracy_key, label = 'advDataKey')\n",
        "plt.plot(epoch_x, accuracy_append, label = 'advDataAppend')\n",
        "plt.xlabel('Epoch')\n",
        "plt.ylabel('Metric')\n",
        "plt.legend(loc='lower right')\n",
        "plt.savefig(save_file)\n",
        "files.download(save_file)"
      ],
      "metadata": {
        "colab": {
          "base_uri": "https://localhost:8080/",
          "height": 316
        },
        "id": "ROpBR0tKqfWp",
        "outputId": "0beabb24-b340-4a10-ce9f-1c311dc51ab1"
      },
      "execution_count": null,
      "outputs": [
        {
          "output_type": "display_data",
          "data": {
            "text/plain": [
              "<IPython.core.display.Javascript object>"
            ],
            "application/javascript": [
              "\n",
              "    async function download(id, filename, size) {\n",
              "      if (!google.colab.kernel.accessAllowed) {\n",
              "        return;\n",
              "      }\n",
              "      const div = document.createElement('div');\n",
              "      const label = document.createElement('label');\n",
              "      label.textContent = `Downloading \"${filename}\": `;\n",
              "      div.appendChild(label);\n",
              "      const progress = document.createElement('progress');\n",
              "      progress.max = size;\n",
              "      div.appendChild(progress);\n",
              "      document.body.appendChild(div);\n",
              "\n",
              "      const buffers = [];\n",
              "      let downloaded = 0;\n",
              "\n",
              "      const channel = await google.colab.kernel.comms.open(id);\n",
              "      // Send a message to notify the kernel that we're ready.\n",
              "      channel.send({})\n",
              "\n",
              "      for await (const message of channel.messages) {\n",
              "        // Send a message to notify the kernel that we're ready.\n",
              "        channel.send({})\n",
              "        if (message.buffers) {\n",
              "          for (const buffer of message.buffers) {\n",
              "            buffers.push(buffer);\n",
              "            downloaded += buffer.byteLength;\n",
              "            progress.value = downloaded;\n",
              "          }\n",
              "        }\n",
              "      }\n",
              "      const blob = new Blob(buffers, {type: 'application/binary'});\n",
              "      const a = document.createElement('a');\n",
              "      a.href = window.URL.createObjectURL(blob);\n",
              "      a.download = filename;\n",
              "      div.appendChild(a);\n",
              "      a.click();\n",
              "      div.remove();\n",
              "    }\n",
              "  "
            ]
          },
          "metadata": {}
        },
        {
          "output_type": "display_data",
          "data": {
            "text/plain": [
              "<IPython.core.display.Javascript object>"
            ],
            "application/javascript": [
              "download(\"download_40d16603-a28b-43e8-95a6-faf0c55ecdc1\", \"model_training_accuracy.png\", 24243)"
            ]
          },
          "metadata": {}
        },
        {
          "output_type": "display_data",
          "data": {
            "text/plain": [
              "<Figure size 432x288 with 1 Axes>"
            ],
            "image/png": "[encoded data removed]"
          },
          "metadata": {
            "needs_background": "light"
          }
        }
      ]
    },
    {
      "cell_type": "code",
      "source": [
        "model_name = \"advDataRandom\"\n",
        "title = \"Model Training Loss\"\n",
        "save_file = title.replace(\" \", \"_\").lower() + \".png\"\n",
        "plt.title(title)\n",
        "plt.plot(epoch_x, base_loss, label = 'baseline')\n",
        "plt.plot(epoch_x, loss_rand, label = 'advDataRandom')\n",
        "plt.plot(epoch_x, loss_key, label = 'advDataKey')\n",
        "plt.plot(epoch_x, loss_append, label = 'advDataAppend')\n",
        "plt.xlabel('Epoch')\n",
        "plt.ylabel('Metric')\n",
        "plt.legend(loc='upper right')\n",
        "plt.savefig(save_file)\n",
        "files.download(save_file)"
      ],
      "metadata": {
        "colab": {
          "base_uri": "https://localhost:8080/",
          "height": 316
        },
        "id": "ULAy1vejrnwE",
        "outputId": "fea8c83d-a496-4c11-b9eb-8be36be29edb"
      },
      "execution_count": null,
      "outputs": [
        {
          "output_type": "display_data",
          "data": {
            "text/plain": [
              "<IPython.core.display.Javascript object>"
            ],
            "application/javascript": [
              "\n",
              "    async function download(id, filename, size) {\n",
              "      if (!google.colab.kernel.accessAllowed) {\n",
              "        return;\n",
              "      }\n",
              "      const div = document.createElement('div');\n",
              "      const label = document.createElement('label');\n",
              "      label.textContent = `Downloading \"${filename}\": `;\n",
              "      div.appendChild(label);\n",
              "      const progress = document.createElement('progress');\n",
              "      progress.max = size;\n",
              "      div.appendChild(progress);\n",
              "      document.body.appendChild(div);\n",
              "\n",
              "      const buffers = [];\n",
              "      let downloaded = 0;\n",
              "\n",
              "      const channel = await google.colab.kernel.comms.open(id);\n",
              "      // Send a message to notify the kernel that we're ready.\n",
              "      channel.send({})\n",
              "\n",
              "      for await (const message of channel.messages) {\n",
              "        // Send a message to notify the kernel that we're ready.\n",
              "        channel.send({})\n",
              "        if (message.buffers) {\n",
              "          for (const buffer of message.buffers) {\n",
              "            buffers.push(buffer);\n",
              "            downloaded += buffer.byteLength;\n",
              "            progress.value = downloaded;\n",
              "          }\n",
              "        }\n",
              "      }\n",
              "      const blob = new Blob(buffers, {type: 'application/binary'});\n",
              "      const a = document.createElement('a');\n",
              "      a.href = window.URL.createObjectURL(blob);\n",
              "      a.download = filename;\n",
              "      div.appendChild(a);\n",
              "      a.click();\n",
              "      div.remove();\n",
              "    }\n",
              "  "
            ]
          },
          "metadata": {}
        },
        {
          "output_type": "display_data",
          "data": {
            "text/plain": [
              "<IPython.core.display.Javascript object>"
            ],
            "application/javascript": [
              "download(\"download_ea51fa2a-e0da-4e8d-ab44-688577b8e3b7\", \"model_training_loss.png\", 26580)"
            ]
          },
          "metadata": {}
        },
        {
          "output_type": "display_data",
          "data": {
            "text/plain": [
              "<Figure size 432x288 with 1 Axes>"
            ],
            "image/png": "[encoded data removed]"
          },
          "metadata": {
            "needs_background": "light"
          }
        }
      ]
    },
    {
      "cell_type": "code",
      "execution_count": null,
      "metadata": {
        "id": "w6sBtS2OBNBZ"
      },
      "outputs": [],
      "source": [
        "y_pred_probs1 = model.predict(X_test_Rand)\n",
        "y_pred_probs2 = model.predict(X_test_Key)\n",
        "y_pred_probs3 = model.predict(X_test_Append)"
      ]
    },
    {
      "cell_type": "code",
      "execution_count": null,
      "metadata": {
        "id": "LNh3bxO7BOR6"
      },
      "outputs": [],
      "source": [
        "y_pred1 = (y_pred_probs1 > 0.5).astype(np.float32)[:,0]\n",
        "y_pred2 = (y_pred_probs2 > 0.5).astype(np.float32)[:,0]\n",
        "y_pred3 = (y_pred_probs3 > 0.5).astype(np.float32)[:,0]"
      ]
    },
    {
      "cell_type": "code",
      "execution_count": null,
      "metadata": {
        "id": "XlwbKQMmBjpJ",
        "colab": {
          "base_uri": "https://localhost:8080/"
        },
        "outputId": "dd81e51b-6364-482c-d916-f07f1a4d2cc2"
      },
      "outputs": [
        {
          "output_type": "execute_result",
          "data": {
            "text/plain": [
              "0.9008073817762399"
            ]
          },
          "metadata": {},
          "execution_count": 38
        }
      ],
      "source": [
        "np.sum(y_pred1 == y_test_Rand) / y_pred1.shape[0]\n",
        "np.sum(y_pred2 == y_test_Key) / y_pred2.shape[0]\n",
        "np.sum(y_pred3 == y_test_Append) / y_pred3.shape[0]"
      ]
    },
    {
      "cell_type": "code",
      "execution_count": null,
      "metadata": {
        "id": "jLWoM77YDBoT"
      },
      "outputs": [],
      "source": [
        "precision1, recall1, thresholds = precision_recall_curve(y_test_Rand, y_pred_probs1)\n",
        "precision2, recall2, thresholds = precision_recall_curve(y_test_Key, y_pred_probs2)\n",
        "precision3, recall3, thresholds = precision_recall_curve(y_test_Append, y_pred_probs3)"
      ]
    },
    {
      "cell_type": "code",
      "execution_count": null,
      "metadata": {
        "id": "Vu359IyZDKim",
        "colab": {
          "base_uri": "https://localhost:8080/",
          "height": 778
        },
        "outputId": "11f2d3c4-9436-4f9d-ec2c-18baa832afac"
      },
      "outputs": [
        {
          "output_type": "execute_result",
          "data": {
            "text/plain": [
              "[<matplotlib.lines.Line2D at 0x7f4230854640>]"
            ]
          },
          "metadata": {},
          "execution_count": 40
        },
        {
          "output_type": "display_data",
          "data": {
            "text/plain": [
              "<Figure size 432x288 with 1 Axes>"
            ],
            "image/png": "[encoded data removed]"
          },
          "metadata": {
            "needs_background": "light"
          }
        },
        {
          "output_type": "display_data",
          "data": {
            "text/plain": [
              "<Figure size 432x288 with 1 Axes>"
            ],
            "image/png": "[encoded data removed]"
          },
          "metadata": {
            "needs_background": "light"
          }
        },
        {
          "output_type": "display_data",
          "data": {
            "text/plain": [
              "<Figure size 432x288 with 1 Axes>"
            ],
            "image/png": "[encoded data removed]"
          },
          "metadata": {
            "needs_background": "light"
          }
        }
      ],
      "source": [
        "plt.figure()\n",
        "plt.plot(recall1, precision1)\n",
        "\n",
        "plt.figure()\n",
        "plt.plot(recall2, precision2)\n",
        "\n",
        "plt.figure()\n",
        "plt.plot(recall3, precision3)"
      ]
    },
    {
      "cell_type": "code",
      "execution_count": null,
      "metadata": {
        "id": "Ph3-0lTEDIB0",
        "colab": {
          "base_uri": "https://localhost:8080/"
        },
        "outputId": "6c457cd6-41ed-4772-f883-bc2acec946de"
      },
      "outputs": [
        {
          "output_type": "stream",
          "name": "stdout",
          "text": [
            "rand auc 0.9684904249113259\n",
            "key auc 0.9469248317548417\n",
            "append auc 0.9569087385906725\n"
          ]
        }
      ],
      "source": [
        "print('rand auc', auc(recall1, precision1))\n",
        "print('key auc', auc(recall2, precision2))\n",
        "print('append auc', auc(recall3, precision3))"
      ]
    }
  ],
  "metadata": {
    "accelerator": "GPU",
    "colab": {
      "provenance": [],
      "toc_visible": true
    },
    "gpuClass": "standard",
    "kernelspec": {
      "display_name": "Python 3",
      "name": "python3"
    },
    "language_info": {
      "name": "python"
    }
  },
  "nbformat": 4,
  "nbformat_minor": 0
}