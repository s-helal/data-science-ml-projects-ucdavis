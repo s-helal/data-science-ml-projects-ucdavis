{
  "nbformat": 4,
  "nbformat_minor": 0,
  "metadata": {
    "colab": {
      "provenance": [],
      "collapsed_sections": [
        "GygsspqiYCDQ",
        "XOhSNQg_YRfe",
        "Q_PPPmMf7vdc",
        "WVfKKA5CTd-O",
        "SPJxau57KMpG"
      ],
      "toc_visible": true
    },
    "kernelspec": {
      "name": "python3",
      "display_name": "Python 3"
    },
    "language_info": {
      "name": "python"
    }
  },
  "cells": [
    {
      "cell_type": "markdown",
      "source": [
        "# Download Data"
      ],
      "metadata": {
        "id": "DJGH8muQLUZT"
      }
    },
    {
      "cell_type": "code",
      "source": [
        "# !pip install kaggle"
      ],
      "metadata": {
        "id": "UEfWAB1wX8aB"
      },
      "execution_count": null,
      "outputs": []
    },
    {
      "cell_type": "code",
      "source": [
        "# !mkdir ~/.kaggle\n",
        "# !touch ~/.kaggle/kaggle.json\n",
        "\n",
        "# api_token = {\"username\":\"samih2141\",\"key\":\"ab01bc279468e400c75af864a35c12df\"}\n",
        "\n",
        "# import json\n",
        "\n",
        "# with open('/root/.kaggle/kaggle.json', 'w') as file:\n",
        "#     json.dump(api_token, file)\n",
        "\n",
        "# !chmod 600 ~/.kaggle/kaggle.json"
      ],
      "metadata": {
        "id": "qXxZ7A8s1_Zo"
      },
      "execution_count": null,
      "outputs": []
    },
    {
      "cell_type": "code",
      "source": [
        "# !kaggle datasets download -d saurabhshahane/fake-news-classification # clmentbisaillon/fake-and-real-news-dataset"
      ],
      "metadata": {
        "id": "Q3Z0DXKaX7J-"
      },
      "execution_count": null,
      "outputs": []
    },
    {
      "cell_type": "code",
      "source": [
        "# import shutil\n",
        "# filename = \"fake-news-classification.zip\" # \"/content/fake-and-real-news-dataset.zip\"\n",
        "# shutil.unpack_archive(filename, \"/content\")"
      ],
      "metadata": {
        "id": "ceuXd96f3P5z"
      },
      "execution_count": null,
      "outputs": []
    },
    {
      "cell_type": "code",
      "source": [
        "# df = pd.read_csv('WELFake_Dataset.csv')"
      ],
      "metadata": {
        "id": "4hwIyjDsMsq2"
      },
      "execution_count": null,
      "outputs": []
    },
    {
      "cell_type": "markdown",
      "source": [
        "# Preprocessing"
      ],
      "metadata": {
        "id": "GygsspqiYCDQ"
      }
    },
    {
      "cell_type": "markdown",
      "source": [
        "## *Loading*"
      ],
      "metadata": {
        "id": "8hKA_6HXhYTo"
      }
    },
    {
      "cell_type": "code",
      "source": [
        "import pandas as pd"
      ],
      "metadata": {
        "id": "T6taBu4KX8A2"
      },
      "execution_count": null,
      "outputs": []
    },
    {
      "cell_type": "code",
      "source": [
        "from google.colab import drive\n",
        "drive.mount('/content/drive')"
      ],
      "metadata": {
        "id": "p7twqJUJFsIV"
      },
      "execution_count": null,
      "outputs": []
    },
    {
      "cell_type": "code",
      "source": [
        "data_dir = \"drive/MyDrive/ECS 271 Project/\"\n",
        "df = pd.read_csv(data_dir + \"WELFake_Dataset.csv\")"
      ],
      "metadata": {
        "id": "e9qri6dihUKS"
      },
      "execution_count": null,
      "outputs": []
    },
    {
      "cell_type": "markdown",
      "source": [
        "## *Exploratory Data Analysis*"
      ],
      "metadata": {
        "id": "rpIma0EJYkqp"
      }
    },
    {
      "cell_type": "code",
      "source": [
        "df.info()"
      ],
      "metadata": {
        "colab": {
          "base_uri": "https://localhost:8080/"
        },
        "id": "RCtiSjusPX6s",
        "outputId": "274255a9-8ecc-410f-e013-ed9875625f30"
      },
      "execution_count": null,
      "outputs": [
        {
          "output_type": "stream",
          "name": "stdout",
          "text": [
            "<class 'pandas.core.frame.DataFrame'>\n",
            "RangeIndex: 72134 entries, 0 to 72133\n",
            "Data columns (total 4 columns):\n",
            " #   Column      Non-Null Count  Dtype \n",
            "---  ------      --------------  ----- \n",
            " 0   Unnamed: 0  72134 non-null  int64 \n",
            " 1   title       71576 non-null  object\n",
            " 2   text        72095 non-null  object\n",
            " 3   label       72134 non-null  int64 \n",
            "dtypes: int64(2), object(2)\n",
            "memory usage: 2.2+ MB\n"
          ]
        }
      ]
    },
    {
      "cell_type": "code",
      "source": [
        "df.dropna(inplace=True)"
      ],
      "metadata": {
        "id": "G3NtZDbvcL1-"
      },
      "execution_count": null,
      "outputs": []
    },
    {
      "cell_type": "markdown",
      "source": [
        "## *Vectorizing*"
      ],
      "metadata": {
        "id": "PX0xSmUY75HR"
      }
    },
    {
      "cell_type": "code",
      "source": [
        "from sklearn.feature_extraction.text import CountVectorizer\n",
        "from nltk.stem.snowball import EnglishStemmer"
      ],
      "metadata": {
        "id": "ljnD1ODFT7bR"
      },
      "execution_count": null,
      "outputs": []
    },
    {
      "cell_type": "code",
      "source": [
        "stemmer = EnglishStemmer()\n",
        "analyzer = CountVectorizer().build_analyzer()\n",
        "def stemmed_words(doc):\n",
        "  return(stemmer.stem(w) for w in analyzer(doc))\n",
        "vectorizer = CountVectorizer(analyzer=stemmed_words)"
      ],
      "metadata": {
        "id": "kG2xbru_r8d4"
      },
      "execution_count": null,
      "outputs": []
    },
    {
      "cell_type": "code",
      "source": [
        "X = vectorizer.fit_transform(df[\"title\"])\n",
        "Y = df[\"label\"]"
      ],
      "metadata": {
        "id": "r79MSVYPyW7r"
      },
      "execution_count": null,
      "outputs": []
    },
    {
      "cell_type": "markdown",
      "source": [
        "## *Modelling*"
      ],
      "metadata": {
        "id": "FiMBOmEo78LH"
      }
    },
    {
      "cell_type": "code",
      "source": [
        "from sklearn.model_selection import train_test_split\n",
        "from sklearn.linear_model import LogisticRegression"
      ],
      "metadata": {
        "id": "HoahU78PyC4c"
      },
      "execution_count": null,
      "outputs": []
    },
    {
      "cell_type": "code",
      "source": [
        "# normally the test size is 0.3 but logistic regression does not converge at that rate\n",
        "X_train, X_test, Y_train, Y_test = train_test_split(X, Y, test_size=0.4, random_state=0)\n",
        "clf = LogisticRegression().fit(X_train, Y_train)"
      ],
      "metadata": {
        "id": "hk1Ei8KDtXE-",
        "colab": {
          "base_uri": "https://localhost:8080/"
        },
        "outputId": "ca36c91c-9206-42b4-c073-a45ea47c9484"
      },
      "execution_count": null,
      "outputs": [
        {
          "output_type": "stream",
          "name": "stderr",
          "text": [
            "/usr/local/lib/python3.8/dist-packages/sklearn/linear_model/_logistic.py:814: ConvergenceWarning: lbfgs failed to converge (status=1):\n",
            "STOP: TOTAL NO. of ITERATIONS REACHED LIMIT.\n",
            "\n",
            "Increase the number of iterations (max_iter) or scale the data as shown in:\n",
            "    https://scikit-learn.org/stable/modules/preprocessing.html\n",
            "Please also refer to the documentation for alternative solver options:\n",
            "    https://scikit-learn.org/stable/modules/linear_model.html#logistic-regression\n",
            "  n_iter_i = _check_optimize_result(\n"
          ]
        }
      ]
    },
    {
      "cell_type": "code",
      "source": [
        "Y_pred = clf.predict(X_test)\n",
        "acc = sum(Y_pred == Y_test)/len(Y_test)\n",
        "print(\"Accuracy: {:.2f}%\".format(acc * 100)) # really bad for LIAR lol\n",
        "# 30-70 accuracy: 95.06\n",
        "# 60-40 accuracy: 95.96"
      ],
      "metadata": {
        "colab": {
          "base_uri": "https://localhost:8080/"
        },
        "id": "IfKXiSfQtjYy",
        "outputId": "a20cd986-3103-4b07-cd57-9069c6d8758d"
      },
      "execution_count": null,
      "outputs": [
        {
          "output_type": "stream",
          "name": "stdout",
          "text": [
            "Accuracy: 90.04%\n"
          ]
        }
      ]
    },
    {
      "cell_type": "code",
      "source": [
        "# clf.__dict__                        # attributes/methods of the classifier\n",
        "# vectorizer.get_feature_names_out()  # detected words\n",
        "# clf.coef_                           # matrix of coefficients for each word for each class (num classes x num words)"
      ],
      "metadata": {
        "id": "bNO_BnEo0qOz"
      },
      "execution_count": null,
      "outputs": []
    },
    {
      "cell_type": "markdown",
      "source": [
        "# Generating Adversarial Data"
      ],
      "metadata": {
        "id": "b6kXRP8NTJii"
      }
    },
    {
      "cell_type": "markdown",
      "source": [
        "## Detecting Keywords"
      ],
      "metadata": {
        "id": "25zKUeUxQKa0"
      }
    },
    {
      "cell_type": "code",
      "source": [
        "import matplotlib.pyplot as plt\n",
        "import numpy as np\n",
        "from scipy.ndimage import gaussian_filter1d"
      ],
      "metadata": {
        "id": "cRpP75S_M2R0"
      },
      "execution_count": null,
      "outputs": []
    },
    {
      "cell_type": "code",
      "source": [
        "words = vectorizer.get_feature_names_out()"
      ],
      "metadata": {
        "id": "n4yo2nx-4KcS"
      },
      "execution_count": null,
      "outputs": []
    },
    {
      "cell_type": "code",
      "source": [
        "n = 2000 # top n words\n",
        "# print (\"{:<15} {:<55} {:<55}\".format('Class','Positive Indicator', 'Negative Indicator'))\n",
        "for i in range(len(clf.coef_)): # only one iteration for binary classification\n",
        "  coefs = clf.coef_[i]\n",
        "  sorted_inds = coefs.argsort()\n",
        "  keywords_fake = [words[j] for j in sorted_inds[-n:]]\n",
        "  keywords_true = [words[j] for j in sorted_inds[:n]]\n",
        "  # print (\"{:<15} {:<55} {:<55}\".format(clf.classes_[i], str(words_pos), str(words_neg)))"
      ],
      "metadata": {
        "id": "yY0wAetw1mRY"
      },
      "execution_count": null,
      "outputs": []
    },
    {
      "cell_type": "code",
      "source": [
        "# get all coefficients\n",
        "sorted_coefs = [coefs[j] for j in sorted_inds]\n",
        "smoothed_coefs = gaussian_filter1d(sorted_coefs, 500)\n",
        "\n",
        "# compute second derivative\n",
        "deriv2 = np.gradient(np.gradient(smoothed_coefs))\n",
        "\n",
        "# find inflection points\n",
        "inflections = np.where(np.diff(np.sign(deriv2)))[0]\n",
        "\n",
        "# plot coefficients and inflection points\n",
        "plt.plot(smoothed_coefs)\n",
        "for point in inflections:\n",
        "    plt.axvline(point, color='k')"
      ],
      "metadata": {
        "colab": {
          "base_uri": "https://localhost:8080/",
          "height": 265
        },
        "id": "yld0JDYUNR_b",
        "outputId": "294f6a2c-74b8-4036-bd94-c2b883feec0b"
      },
      "execution_count": null,
      "outputs": [
        {
          "output_type": "display_data",
          "data": {
            "text/plain": [
              "<Figure size 432x288 with 1 Axes>"
            ],
            "image/png": "[encoded data removed]"
          },
          "metadata": {
            "needs_background": "light"
          }
        }
      ]
    },
    {
      "cell_type": "code",
      "source": [
        "inflections # around 2000 keywords should work"
      ],
      "metadata": {
        "colab": {
          "base_uri": "https://localhost:8080/"
        },
        "id": "QasDMLhCN_Sp",
        "outputId": "dc5c148f-01e3-4c83-9564-d1b401a286dd"
      },
      "execution_count": null,
      "outputs": [
        {
          "output_type": "execute_result",
          "data": {
            "text/plain": [
              "array([  638,  1996,  1999,  9245,  9248,  9254,  9257,  9262,  9263,\n",
              "        9268, 20561])"
            ]
          },
          "metadata": {},
          "execution_count": 33
        }
      ]
    },
    {
      "cell_type": "code",
      "source": [
        "print(keywords_fake[-10:])"
      ],
      "metadata": {
        "colab": {
          "base_uri": "https://localhost:8080/"
        },
        "id": "CXOUerW_P_eb",
        "outputId": "a4692281-7026-4357-ef3b-b44d5625ab49"
      },
      "execution_count": null,
      "outputs": [
        {
          "output_type": "stream",
          "name": "stdout",
          "text": [
            "['mosul', 'imag', 'humili', 'bombshel', 'hilari', 'break', 'aleppo', 'wow', 'boiler', 'video']\n"
          ]
        }
      ]
    },
    {
      "cell_type": "code",
      "source": [
        "print(keywords_true[:10])"
      ],
      "metadata": {
        "colab": {
          "base_uri": "https://localhost:8080/"
        },
        "id": "46PTNQ-5KqeW",
        "outputId": "dbaf3d89-0ec3-41ae-a2b4-10aca1f78f94"
      },
      "execution_count": null,
      "outputs": [
        {
          "output_type": "stream",
          "name": "stdout",
          "text": [
            "['breitbart', 'york', 'factbox', 'polar', 'myanmar', 'catalan', '202', 'rohingya', 'zimbabw', 'singapor']\n"
          ]
        }
      ]
    },
    {
      "cell_type": "markdown",
      "source": [
        "## Fudging Functions"
      ],
      "metadata": {
        "id": "WVfKKA5CTd-O"
      }
    },
    {
      "cell_type": "code",
      "source": [
        "def wordFudger(word):\n",
        "  fudge = chr(np.random.randint(97,122))\n",
        "  return fudge + word[1:]"
      ],
      "metadata": {
        "id": "kS5H9kf6TTO4"
      },
      "execution_count": null,
      "outputs": []
    },
    {
      "cell_type": "code",
      "source": [
        "def advRandomFudge(sentence,min_len=4,num_fudge=3):\n",
        "  split = sentence.split()\n",
        "  length = len(split)\n",
        "  fudge_ids = []\n",
        "  x = 0\n",
        "  while len(fudge_ids) < num_fudge and x < num_fudge * 5:\n",
        "    i = np.random.randint(length)\n",
        "    if len(split[i]) >= min_len and i not in fudge_ids:\n",
        "      fudge_ids.append(i)\n",
        "    x+=1\n",
        "  for i in fudge_ids:\n",
        "    split[i] = wordFudger(split[i])\n",
        "  return ' '.join(split)"
      ],
      "metadata": {
        "id": "oGQhBl66TVcU"
      },
      "execution_count": null,
      "outputs": []
    },
    {
      "cell_type": "code",
      "source": [
        "def advKeyFudge(sentence,keywords,num_fudge=-1):\n",
        "  original_sentence = sentence\n",
        "  num_fudge = min(num_fudge,len(keywords))\n",
        "  if num_fudge == -1:\n",
        "    for word in keywords:\n",
        "      sentence=sentence.replace(word,wordFudger(word))\n",
        "  else:\n",
        "    keywords_rand = np.random.choice(keywords,num_fudge,replace=False)\n",
        "    for word in keywords_rand:\n",
        "      sentence=sentence.replace(word,wordFudger(word))\n",
        "  if sentence == original_sentence:\n",
        "    return np.nan\n",
        "  else:\n",
        "    return sentence"
      ],
      "metadata": {
        "id": "b1-7Q4gRTZmc"
      },
      "execution_count": null,
      "outputs": []
    },
    {
      "cell_type": "code",
      "source": [
        "def advKeyAdd(sentence, keywords, num_add=1):\n",
        "  num_add = min(num_add, len(keywords))\n",
        "  return sentence + \" \" + ' '.join(np.random.choice(keywords, num_add, replace=False))"
      ],
      "metadata": {
        "id": "C2l0jPRNTRd3"
      },
      "execution_count": null,
      "outputs": []
    },
    {
      "cell_type": "markdown",
      "source": [
        "## Generating Data"
      ],
      "metadata": {
        "id": "rgkiJPVYTsRy"
      }
    },
    {
      "cell_type": "code",
      "source": [
        "from google.colab import files"
      ],
      "metadata": {
        "id": "GRBoxXaTRIfT"
      },
      "execution_count": null,
      "outputs": []
    },
    {
      "cell_type": "code",
      "source": [
        "advSetRandom = df.copy()\n",
        "advSetKey = df.copy()\n",
        "advSetAppend = df[df[\"label\"] == 0].copy()\n",
        "\n",
        "# fudge random words for all samples\n",
        "advSetRandom['title'] = df.apply((lambda x: advRandomFudge(x.title)), axis=1)\n",
        "# fudge fake keywords for fake samples and true keywords for true samples\n",
        "advSetKey['title'] = df.apply((lambda x: advKeyFudge(x.title, keywords_fake, num_fudge=-1) \\\n",
        "                               if x.label == 0 else advKeyFudge(x.title, keywords_true, num_fudge=1)), axis=1)\n",
        "# append true keywords to fake samples\n",
        "advSetAppend['title'] = advSetAppend['title'].apply(lambda x: advKeyAdd(x, keywords_true, num_add=1))\n",
        "\n",
        "advSetRandom.dropna(inplace=True)\n",
        "advSetKey.dropna(inplace=True)\n",
        "advSetAppend.dropna(inplace=True)\n",
        "\n",
        "advSetRandom.to_csv('advDataRandom.csv')\n",
        "advSetKey.to_csv('advDataKey.csv')\n",
        "advSetAppend.to_csv('advDataAppend.csv')"
      ],
      "metadata": {
        "id": "0thPHpjlDIyy"
      },
      "execution_count": null,
      "outputs": []
    },
    {
      "cell_type": "code",
      "source": [
        "print(len(df), len(advSetRandom), len(advSetKey), len(advSetAppend))"
      ],
      "metadata": {
        "id": "M7Itv19cfGtf",
        "colab": {
          "base_uri": "https://localhost:8080/"
        },
        "outputId": "51991ec6-151e-4bca-a880-8b32e371933f"
      },
      "execution_count": null,
      "outputs": [
        {
          "output_type": "stream",
          "name": "stdout",
          "text": [
            "71537 71537 35059 35028\n"
          ]
        }
      ]
    },
    {
      "cell_type": "code",
      "source": [
        "files.download('advDataRandom.csv')\n",
        "files.download('advDataKey.csv')\n",
        "files.download('advDataAppend.csv')"
      ],
      "metadata": {
        "id": "FVNWbGjZQNSr"
      },
      "execution_count": null,
      "outputs": []
    },
    {
      "cell_type": "code",
      "source": [
        "# fudge 3 words instead of 1:\n",
        "advSetRandom = df.copy()\n",
        "advSetRandom['title'] = df.apply((lambda x: advRandomFudge(x.title)), axis=1)\n",
        "advSetRandom.dropna(inplace=True)\n",
        "advSetRandom.to_csv('advDataRandom-2.csv')\n",
        "files.download('advDataRandom-2.csv')"
      ],
      "metadata": {
        "id": "tsIKdcckLf8h"
      },
      "execution_count": null,
      "outputs": []
    }
  ]
}